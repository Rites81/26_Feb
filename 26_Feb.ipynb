{
 "cells": [
  {
   "cell_type": "markdown",
   "id": "c321e102",
   "metadata": {},
   "source": [
    "# Assignment"
   ]
  },
  {
   "cell_type": "markdown",
   "id": "5a2c6579",
   "metadata": {},
   "source": [
    "## Q1. Is there any difference in the data type of variables list_ and array_list? If there is, then write a code to print the data types of both the variables.\n",
    "Yes, there is a difference. list_ is a Python list, while array_list is a NumPy array. Here's how to print the data types of both:"
   ]
  },
  {
   "cell_type": "code",
   "execution_count": 2,
   "id": "94b28ea2",
   "metadata": {},
   "outputs": [
    {
     "name": "stdout",
     "output_type": "stream",
     "text": [
      "Data type of list_: <class 'list'>\n",
      "Data type of array_list: <class 'numpy.ndarray'>\n"
     ]
    }
   ],
   "source": [
    "import numpy as np\n",
    "\n",
    "list_ = ['1', '2', '3', '4', '5']\n",
    "array_list = np.array(object=list_)\n",
    "\n",
    "# Print data types of both variables\n",
    "print(\"Data type of list_:\", type(list_))\n",
    "print(\"Data type of array_list:\", type(array_list))\n"
   ]
  },
  {
   "cell_type": "markdown",
   "id": "13e9d483",
   "metadata": {},
   "source": [
    "## Q2. Write a code to print the data type of each and every element of both the variables list_ and array_list."
   ]
  },
  {
   "cell_type": "code",
   "execution_count": 4,
   "id": "9deab6dd",
   "metadata": {},
   "outputs": [
    {
     "name": "stdout",
     "output_type": "stream",
     "text": [
      "Data type of element '1' in list_: <class 'str'>\n",
      "Data type of element '2' in list_: <class 'str'>\n",
      "Data type of element '3' in list_: <class 'str'>\n",
      "Data type of element '4' in list_: <class 'str'>\n",
      "Data type of element '5' in list_: <class 'str'>\n",
      "Data type of element '1' in array_list: <class 'numpy.str_'>\n",
      "Data type of element '2' in array_list: <class 'numpy.str_'>\n",
      "Data type of element '3' in array_list: <class 'numpy.str_'>\n",
      "Data type of element '4' in array_list: <class 'numpy.str_'>\n",
      "Data type of element '5' in array_list: <class 'numpy.str_'>\n"
     ]
    }
   ],
   "source": [
    "# Data types of elements in list_\n",
    "for element in list_:\n",
    "    print(f\"Data type of element '{element}' in list_: {type(element)}\")\n",
    "\n",
    "# Data types of elements in array_list\n",
    "for element in array_list:\n",
    "    print(f\"Data type of element '{element}' in array_list: {type(element)}\")\n"
   ]
  },
  {
   "cell_type": "markdown",
   "id": "491d4e0b",
   "metadata": {},
   "source": [
    "## Q3. Considering the following changes in the variable, array_list:\n",
    " \n",
    "array_list = np.array(object=list_, dtype=int)\n",
    "Will there be any difference in the data type of the elements present in both the variables, list_ and array_list? If so, then print the data types of each and every element.\n",
    "\n",
    "Yes, there will be a difference. The elements in array_list will be converted to integers, while the elements in list_ remain strings.\n",
    "\n",
    "\n",
    "array_list = np.array(object=list_, dtype=int)\n",
    "\n",
    "# Data types of elements in list_\n",
    "for element in list_:\n",
    "    print(f\"Data type of element '{element}' in list_: {type(element)}\")\n",
    "\n",
    "# Data types of elements in array_list\n",
    "for element in array_list:\n",
    "    print(f\"Data type of element '{element}' in array_list: {type(element)}\")\n"
   ]
  },
  {
   "cell_type": "code",
   "execution_count": 9,
   "id": "d5aa7383",
   "metadata": {},
   "outputs": [
    {
     "name": "stdout",
     "output_type": "stream",
     "text": [
      "Shape of num_array: (2, 3)\n",
      "Size of num_array: 6\n"
     ]
    }
   ],
   "source": [
    "## Q4. Write a code to find the following characteristics of variable num_array:\n",
    "## (i) Shape\n",
    "## (ii) Size\n",
    "\n",
    "\n",
    "import numpy as np\n",
    "\n",
    "num_list = [[1, 2, 3], [4, 5, 6]]\n",
    "num_array = np.array(object=num_list)\n",
    "\n",
    "# Shape of num_array\n",
    "print(\"Shape of num_array:\", num_array.shape)\n",
    "\n",
    "# Size of num_array\n",
    "print(\"Size of num_array:\", num_array.size)\n"
   ]
  },
  {
   "cell_type": "code",
   "execution_count": 10,
   "id": "58f057ca",
   "metadata": {},
   "outputs": [
    {
     "name": "stdout",
     "output_type": "stream",
     "text": [
      "[[0. 0. 0.]\n",
      " [0. 0. 0.]\n",
      " [0. 0. 0.]]\n"
     ]
    }
   ],
   "source": [
    "## Q5. Write a code to create a NumPy array of a 3x3 matrix containing zeros only, using a NumPy array creation function.\n",
    "\n",
    "import numpy as np\n",
    "\n",
    "# Creating a 3x3 matrix of zeros\n",
    "zero_matrix = np.zeros((3, 3))\n",
    "\n",
    "print(zero_matrix)\n"
   ]
  },
  {
   "cell_type": "code",
   "execution_count": 12,
   "id": "fddae460",
   "metadata": {},
   "outputs": [
    {
     "name": "stdout",
     "output_type": "stream",
     "text": [
      "[[1. 0. 0. 0. 0.]\n",
      " [0. 1. 0. 0. 0.]\n",
      " [0. 0. 1. 0. 0.]\n",
      " [0. 0. 0. 1. 0.]\n",
      " [0. 0. 0. 0. 1.]]\n"
     ]
    }
   ],
   "source": [
    "## Q6. Create an identity matrix of shape (5,5) using NumPy functions.\n",
    "\n",
    "import numpy as np\n",
    "\n",
    "# Creating a 5x5 identity matrix\n",
    "identity_matrix = np.identity(5)\n",
    "\n",
    "print(identity_matrix)"
   ]
  },
  {
   "cell_type": "code",
   "execution_count": null,
   "id": "c306331d",
   "metadata": {},
   "outputs": [],
   "source": []
  }
 ],
 "metadata": {
  "kernelspec": {
   "display_name": "Python 3 (ipykernel)",
   "language": "python",
   "name": "python3"
  },
  "language_info": {
   "codemirror_mode": {
    "name": "ipython",
    "version": 3
   },
   "file_extension": ".py",
   "mimetype": "text/x-python",
   "name": "python",
   "nbconvert_exporter": "python",
   "pygments_lexer": "ipython3",
   "version": "3.10.10"
  }
 },
 "nbformat": 4,
 "nbformat_minor": 5
}
